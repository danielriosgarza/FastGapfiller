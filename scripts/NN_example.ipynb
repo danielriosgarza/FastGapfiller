{
 "cells": [
  {
   "cell_type": "markdown",
   "id": "339e7624",
   "metadata": {},
   "source": [
    "Load dependencies"
   ]
  },
  {
   "cell_type": "code",
   "execution_count": null,
   "id": "330fd769",
   "metadata": {},
   "outputs": [],
   "source": [
    "import numpy as np\n",
    "import pandas as pd\n",
    "import os\n",
    "import sys\n",
    "import json\n",
    "import tensorflow as tf\n",
    "import NN_Predictor"
   ]
  },
  {
   "cell_type": "code",
   "execution_count": null,
   "id": "821a4d96",
   "metadata": {},
   "outputs": [],
   "source": [
    "from pathlib import Path\n",
    "path = Path.cwd()\n",
    "sys.path.append(path)\n",
    "file_path = os.path.join(path.parent,'files', 'NN')\n",
    "output_path = os.path.join(path.parent,'files', 'custom scores')\n",
    "rxn_ids = np.load(file_path+'/rxn_ids.npy').astype('str')\n",
    "\n",
    "#Tensorflow complains because the NN is not optimized perfectly\n",
    "tf.get_logger().setLevel('ERROR')"
   ]
  },
  {
   "cell_type": "markdown",
   "id": "3a919838",
   "metadata": {},
   "source": [
    "## Introduction\n",
    "\n",
    "The purpose of this notebook is to show some examples of using the NN"
   ]
  },
  {
   "cell_type": "markdown",
   "id": "4a5d8419",
   "metadata": {},
   "source": [
    "## Making predictions using the NN\n",
    "\n",
    "Load in your favourite Neural Network"
   ]
  },
  {
   "cell_type": "code",
   "execution_count": null,
   "id": "4c7276c8",
   "metadata": {},
   "outputs": [],
   "source": [
    "NN = NN_Predictor.load_NN(path=file_path+'/NN_full.h5')"
   ]
  },
  {
   "cell_type": "markdown",
   "id": "92b03fc0",
   "metadata": {},
   "source": [
    "Load in the data, the current NN requires a binary list indicating presences of reactions, it is important that this list is in the right order (maybe something that I can solve later?).\n",
    "\n",
    "First lets try it with a single reaction set"
   ]
  },
  {
   "cell_type": "code",
   "execution_count": null,
   "id": "c671f8f5",
   "metadata": {},
   "outputs": [],
   "source": [
    "input_data = np.load(file_path+'/example_binary.npy')"
   ]
  },
  {
   "cell_type": "markdown",
   "id": "1e30bc64",
   "metadata": {},
   "source": [
    "This example already has the right order so no worries, we can immediately make our prediction"
   ]
  },
  {
   "cell_type": "code",
   "execution_count": null,
   "id": "8bb786e0",
   "metadata": {},
   "outputs": [],
   "source": [
    "prediction = NN_Predictor.make_prediction(input_data,NN)"
   ]
  },
  {
   "cell_type": "markdown",
   "id": "bf1f88b0",
   "metadata": {},
   "source": [
    "We can then save this as an dictionary (.json) so we know which prediction corresponds to which reaction"
   ]
  },
  {
   "cell_type": "code",
   "execution_count": null,
   "id": "799de12d",
   "metadata": {},
   "outputs": [],
   "source": [
    "pdic = dict(zip(rxn_ids,prediction.astype('float')))\n",
    "p_file = open(output_path+\"/prediction_example.json\", 'w')\n",
    "json.dump(pdic, p_file)\n",
    "p_file.close()"
   ]
  },
  {
   "cell_type": "markdown",
   "id": "a9c832b7",
   "metadata": {},
   "source": [
    "What if we only have a list of reaction ids? (following part can maybe be integrated in make prediction function, this was a bit of a random idea but it seems to work)"
   ]
  },
  {
   "cell_type": "code",
   "execution_count": null,
   "id": "1a26f0ef",
   "metadata": {},
   "outputs": [],
   "source": [
    "#creates a random list of 500 reactions\n",
    "rand_reaction_set = np.random.choice(rxn_ids, 500, replace=False)\n",
    "\n",
    "#converts this to the right format\n",
    "b_list = NN_Predictor.convert_reaction_list(rand_reaction_set)\n"
   ]
  },
  {
   "cell_type": "markdown",
   "id": "392d4680",
   "metadata": {},
   "source": [
    "# Multiple predictions\n",
    "\n",
    "We can also make predictions for multiple models at the same time, starting with a reaction presence dataframe where the rows are the different reactions and the columns are the model ids:"
   ]
  },
  {
   "cell_type": "code",
   "execution_count": null,
   "id": "88ec4ebd",
   "metadata": {},
   "outputs": [],
   "source": [
    "#multiple binary reaction lists (csv)\n",
    "input_path = file_path+'/Sample_reaction_presence.csv'\n",
    "df = pd.read_csv(input_path, index_col=0)\n",
    "model_ids = df.columns\n",
    "rxn_ids = df.index\n",
    "input_data= df.to_numpy().T #The neural network makes predictions per row so we need to transpose the input"
   ]
  },
  {
   "cell_type": "markdown",
   "id": "da538646",
   "metadata": {},
   "source": [
    "We can then create a array of prediction scores with the same order of reaction and model ids"
   ]
  },
  {
   "cell_type": "code",
   "execution_count": null,
   "id": "c3e50af9",
   "metadata": {},
   "outputs": [],
   "source": [
    "#   load network and make prediction\n",
    "prediction = NN_Predictor.make_prediction(input_data,NN)"
   ]
  },
  {
   "cell_type": "markdown",
   "id": "f082c248",
   "metadata": {},
   "source": [
    "Finally we can create a dataframe of predictions so we can see which score corresponds to which model and reaction id"
   ]
  },
  {
   "cell_type": "code",
   "execution_count": null,
   "id": "be128123",
   "metadata": {},
   "outputs": [],
   "source": [
    "t_prediction = prediction.T  #Transpose the data back, this is convuluted, I will see if I can make this better\n",
    "df_p = pd.DataFrame(index=rxn_ids, columns=model_ids, data=t_prediction)\n",
    "df_p.to_csv(output_path+'/Multiple_NN_predictions.csv')"
   ]
  },
  {
   "cell_type": "code",
   "execution_count": null,
   "id": "00513c6c",
   "metadata": {},
   "outputs": [],
   "source": [
    "df_p"
   ]
  }
 ],
 "metadata": {
  "kernelspec": {
   "display_name": "tf2",
   "language": "python",
   "name": "tf2"
  },
  "language_info": {
   "codemirror_mode": {
    "name": "ipython",
    "version": 3
   },
   "file_extension": ".py",
   "mimetype": "text/x-python",
   "name": "python",
   "nbconvert_exporter": "python",
   "pygments_lexer": "ipython3",
   "version": "3.7.0"
  }
 },
 "nbformat": 4,
 "nbformat_minor": 5
}
