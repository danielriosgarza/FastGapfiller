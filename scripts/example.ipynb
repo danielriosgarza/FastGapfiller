{
 "cells": [
  {
   "cell_type": "markdown",
   "id": "878d7db4",
   "metadata": {},
   "source": [
    "Load dependencies"
   ]
  },
  {
   "cell_type": "code",
   "execution_count": 1,
   "id": "5f327b25",
   "metadata": {},
   "outputs": [],
   "source": [
    "import cobra\n",
    "#Avoid the warnings about the sbml formating\n",
    "import logging\n",
    "logging.getLogger(\"cobra\").setLevel(logging.ERROR)\n",
    "\n",
    "import os\n",
    "import sys\n",
    "from pathlib import Path\n",
    "path = Path.cwd()\n",
    "sys.path.append(path)\n",
    "\n",
    "import numpy as np"
   ]
  },
  {
   "cell_type": "code",
   "execution_count": 2,
   "id": "cef60e3c",
   "metadata": {},
   "outputs": [],
   "source": [
    "from reaction_class import Reaction\n",
    "import gapfill_function"
   ]
  },
  {
   "cell_type": "markdown",
   "id": "e1c06a46",
   "metadata": {},
   "source": [
    "### Cobrapy crash tutorial for browsing GSMMs\n",
    "\n",
    "I find cobrapy one the best ways to interact with GSMMs in a programatic way. It's quite well documented (https://cobrapy.readthedocs.io/en/latest/)\n",
    "\n",
    "I am only going to illustrate some basic functionalities:\n",
    "\n",
    "1) load a model from an XML file"
   ]
  },
  {
   "cell_type": "code",
   "execution_count": 3,
   "id": "4dabeee3",
   "metadata": {},
   "outputs": [
    {
     "name": "stdout",
     "output_type": "stream",
     "text": [
      "Academic license - for non-commercial use only - expires 2021-09-09\n",
      "Using license file C:\\Users\\u0139894\\gurobi.lic\n"
     ]
    }
   ],
   "source": [
    "model_location = os.path.join(path.parent, 'files',  'models', 'all_bins-draft.xml')\n",
    "gpseq_model = cobra.io.read_sbml_model(model_location)"
   ]
  },
  {
   "cell_type": "markdown",
   "id": "02f53b22",
   "metadata": {},
   "source": [
    "As expected from GSMMs, the model obj has genes, reactions, metabolites, medium, demand reactions, and compartments.\n",
    "\n",
    "They are all iterable python objects that have additional information as id, name, charge, formula, etc"
   ]
  },
  {
   "cell_type": "code",
   "execution_count": 4,
   "id": "b01772ec",
   "metadata": {},
   "outputs": [
    {
     "name": "stdout",
     "output_type": "stream",
     "text": [
      "number of reactions :  3846\n",
      "number of metabolites :  3113\n",
      "number of genes :  17464\n",
      "Compartments :  {'c0': '', 'e0': '', 'p0': ''}\n",
      "id :  rxn00004_c0\n",
      "name :  4-hydroxy-4-methyl-2-oxoglutarate pyruvate-lyase (pyruvate-forming)\n",
      "cpd02570_c0 <=> 2.0 cpd00020_c0\n",
      "Parapyruvate-c0 <=> 2.0 Pyruvate-c0\n",
      "\n",
      "\n",
      " reaction genes :  frozenset({<Gene gp_NODE___EIGHT____ONE____NINE____THREE___length___FOUR____ZERO____SIX____FIVE___cov___ONE____SIX____DOT____ONE____TWO____ONE____SIX____NINE____SIX_____THREE____SEVEN____EIGHT____FIVE_____THREE____THREE____ZERO____THREE__ at 0x26c79924220>, <Gene gp_NODE___ONE____THREE____SIX___length___ONE____ZERO____FOUR____SEVEN____EIGHT____FOUR___cov___THREE____ONE____DOT____SEVEN____TWO____EIGHT____SIX____EIGHT____ONE_____ONE____EIGHT____EIGHT____THREE____FOUR_____ONE____EIGHT____THREE____SEVEN____THREE__ at 0x26c79924e50>, <Gene gp_NODE___ONE____NINE____SEVEN___length___EIGHT____ONE____SIX____ZERO____FIVE___cov___EIGHT____NINE____DOT____EIGHT____NINE____ONE____THREE____SIX____SEVEN_____FIVE____TWO____THREE____EIGHT____NINE_____FIVE____THREE____ZERO____FIVE____SEVEN__ at 0x26c79924e80>, <Gene gp_NODE___TWO____ONE____SIX___length___SEVEN____SEVEN____FOUR____THREE____ZERO___cov___THREE____ZERO____DOT____FIVE____SIX____SIX____FIVE____SIX____FIVE_____ONE____FOUR____TWO____TWO____FIVE_____ONE____THREE____SEVEN____FOUR____ZERO__ at 0x26c79924eb0>, <Gene gp_NODE___NINE____NINE____ZERO___length___TWO____SIX____EIGHT____THREE____FIVE___cov___ONE____SIX____DOT____SEVEN____FIVE____ONE____SEVEN____ONE____EIGHT_____ONE____THREE____NINE____NINE____TWO_____ONE____FOUR____SEVEN____ZERO____FIVE__ at 0x26c799340d0>, <Gene gp_NODE___TWO____FIVE____THREE____SIX___length___ONE____ONE____FIVE____SIX____THREE___cov___TWO____TWO____DOT____EIGHT____THREE____ZERO____NINE____EIGHT____SEVEN_____TWO____ONE____EIGHT____ZERO_____TWO____SIX____SIX____FIVE__ at 0x26c79924ee0>, <Gene gp_NODE___TWO____EIGHT____ONE____ONE___length___ONE____ZERO____FIVE____FIVE____EIGHT___cov___ONE____THREE____DOT____TWO____FOUR____ONE____SIX____FOUR____FIVE_____FOUR____ONE____SIX_____ONE____ZERO____EIGHT____FOUR__ at 0x26c79924f10>, <Gene gp_NODE___THREE____ZERO____FIVE____TWO___length___NINE____EIGHT____TWO____TWO___cov___ONE____THREE____DOT____FIVE____NINE____ONE____NINE____NINE____THREE_____EIGHT____THREE____EIGHT____ONE_____SEVEN____EIGHT____NINE____SIX__ at 0x26c79924f40>, <Gene gp_NODE___EIGHT____FOUR___length___ONE____FOUR____THREE____ZERO____TWO____NINE___cov___SIX____FIVE____DOT____FIVE____TWO____SIX____NINE____ONE____FOUR_____TWO____TWO____SEVEN____SIX____EIGHT_____TWO____THREE____FOUR____THREE____SIX__ at 0x26c79924160>, <Gene gp_NODE___THREE____EIGHT____ZERO___length___FIVE____FIVE____SIX____SEVEN____SIX___cov___SIX____THREE____DOT____TWO____EIGHT____NINE____TWO____NINE____SEVEN_____THREE____ONE____THREE____SEVEN____ONE_____THREE____ZERO____SIX____SEVEN____NINE__ at 0x26c79924f70>, <Gene gp_NODE___THREE____EIGHT____THREE___length___FIVE____FIVE____ZERO____FOUR____TWO___cov___FOUR____ZERO____DOT____ONE____THREE____FIVE____FIVE____SEVEN____EIGHT_____FOUR____SEVEN____NINE____SIX____TWO_____FOUR____EIGHT____SIX____ONE____FIVE__ at 0x26c79924fa0>, <Gene gp_NODE___SEVEN____FIVE____SIX___length___THREE____THREE____TWO____FOUR____SEVEN___cov___ONE____EIGHT____DOT____ONE____FIVE____FOUR____NINE____FOUR____SEVEN_____THREE____ONE____ZERO____TWO____SEVEN_____THREE____ZERO____THREE____SIX____TWO__ at 0x26c79924fd0>}) \n",
      "\n",
      "\n",
      "\n",
      "\n",
      " reaction gene rules :  gp_NODE___ONE____THREE____SIX___length___ONE____ZERO____FOUR____SEVEN____EIGHT____FOUR___cov___THREE____ONE____DOT____SEVEN____TWO____EIGHT____SIX____EIGHT____ONE_____ONE____EIGHT____EIGHT____THREE____FOUR_____ONE____EIGHT____THREE____SEVEN____THREE__ or gp_NODE___ONE____NINE____SEVEN___length___EIGHT____ONE____SIX____ZERO____FIVE___cov___EIGHT____NINE____DOT____EIGHT____NINE____ONE____THREE____SIX____SEVEN_____FIVE____TWO____THREE____EIGHT____NINE_____FIVE____THREE____ZERO____FIVE____SEVEN__ or gp_NODE___TWO____ONE____SIX___length___SEVEN____SEVEN____FOUR____THREE____ZERO___cov___THREE____ZERO____DOT____FIVE____SIX____SIX____FIVE____SIX____FIVE_____ONE____FOUR____TWO____TWO____FIVE_____ONE____THREE____SEVEN____FOUR____ZERO__ or gp_NODE___TWO____FIVE____THREE____SIX___length___ONE____ONE____FIVE____SIX____THREE___cov___TWO____TWO____DOT____EIGHT____THREE____ZERO____NINE____EIGHT____SEVEN_____TWO____ONE____EIGHT____ZERO_____TWO____SIX____SIX____FIVE__ or gp_NODE___TWO____EIGHT____ONE____ONE___length___ONE____ZERO____FIVE____FIVE____EIGHT___cov___ONE____THREE____DOT____TWO____FOUR____ONE____SIX____FOUR____FIVE_____FOUR____ONE____SIX_____ONE____ZERO____EIGHT____FOUR__ or gp_NODE___THREE____ZERO____FIVE____TWO___length___NINE____EIGHT____TWO____TWO___cov___ONE____THREE____DOT____FIVE____NINE____ONE____NINE____NINE____THREE_____EIGHT____THREE____EIGHT____ONE_____SEVEN____EIGHT____NINE____SIX__ or gp_NODE___THREE____EIGHT____ZERO___length___FIVE____FIVE____SIX____SEVEN____SIX___cov___SIX____THREE____DOT____TWO____EIGHT____NINE____TWO____NINE____SEVEN_____THREE____ONE____THREE____SEVEN____ONE_____THREE____ZERO____SIX____SEVEN____NINE__ or gp_NODE___THREE____EIGHT____THREE___length___FIVE____FIVE____ZERO____FOUR____TWO___cov___FOUR____ZERO____DOT____ONE____THREE____FIVE____FIVE____SEVEN____EIGHT_____FOUR____SEVEN____NINE____SIX____TWO_____FOUR____EIGHT____SIX____ONE____FIVE__ or gp_NODE___SEVEN____FIVE____SIX___length___THREE____THREE____TWO____FOUR____SEVEN___cov___ONE____EIGHT____DOT____ONE____FIVE____FOUR____NINE____FOUR____SEVEN_____THREE____ONE____ZERO____TWO____SEVEN_____THREE____ZERO____THREE____SIX____TWO__ or gp_NODE___EIGHT____ONE____NINE____THREE___length___FOUR____ZERO____SIX____FIVE___cov___ONE____SIX____DOT____ONE____TWO____ONE____SIX____NINE____SIX_____THREE____SEVEN____EIGHT____FIVE_____THREE____THREE____ZERO____THREE__ or gp_NODE___EIGHT____FOUR___length___ONE____FOUR____THREE____ZERO____TWO____NINE___cov___SIX____FIVE____DOT____FIVE____TWO____SIX____NINE____ONE____FOUR_____TWO____TWO____SEVEN____SIX____EIGHT_____TWO____THREE____FOUR____THREE____SIX__ or gp_NODE___NINE____NINE____ZERO___length___TWO____SIX____EIGHT____THREE____FIVE___cov___ONE____SIX____DOT____SEVEN____FIVE____ONE____SEVEN____ONE____EIGHT_____ONE____THREE____NINE____NINE____TWO_____ONE____FOUR____SEVEN____ZERO____FIVE__ \n",
      "\n",
      "\n",
      "id :  cpd00020_c0\n",
      "name :  Pyruvate-c0\n",
      "formula :  C3H3O3\n",
      "charge :  -1\n",
      "elements :  {'C': 3, 'H': 3, 'O': 3}\n",
      "weight :  87.05412\n",
      "reactions that use this metabolite :  ['rxn00491_c0', 'rxn10951_c0', 'rxn00801_c0', 'rxn00250_c0', 'rxn01735_c0', 'rxn00727_c0', 'rxn00840_c0', 'rxn02210_c0', 'rxn00003_c0', 'rxn15267_c0', 'rxn01307_c0', 'rxn12670_c0', 'rxn01354_c0', 'rxn09402_c0', 'rxn03379_c0', 'rxn00164_c0', 'rxn00147_c0', 'rxn00328_c0', 'rxn00148_c0', 'rxn00258_c0', 'rxn00422_c0', 'rxn00162_c0', 'rxn00154_c0', 'rxn15021_c0', 'rxn09167_c0', 'rxn02185_c0', 'rxn05938_c0', 'rxn02900_c0', 'rxn02925_c0', 'rxn00165_c0', 'rxn00517_c0', 'rxn05109_c0', 'rxn14077_c0', 'rxn03924_c0', 'rxn05485_c0', 'rxn16114_c0', 'rxn08535_c0', 'rxn14245_c0', 'rxn01202_c0', 'rxn01990_c0', 'rxn00950_c0', 'rxn15044_c0', 'rxn00168_c0', 'rxn00726_c0', 'rxn00304_c0', 'rxn00499_c0', 'rxn00255_c0', 'rxn00166_c0', 'rxn01644_c0', 'rxn02230_c0', 'rxn00146_c0', 'rxn00272_c0', 'rxn00177_c0', 'rxn05647_c0', 'rxn00278_c0', 'rxn00160_c0', 'rxn00678_c0', 'rxn06404_c0', 'rxn05617_c0', 'rxn07450_c0', 'rxn00289_c0', 'rxn05469_c0', 'rxn15266_c0', 'rxn90067_c0', 'rxn03610_c0', 'rxn00473_c0', 'rxn00191_c0', 'rxn01619_c0', 'rxn05560_c0', 'rxn14068_c0', 'rxn02346_c0', 'rxn00159_c0', 'rxn11703_c0', 'rxn05607_c0', 'rxn00500_c0', 'rxn00904_c0', 'rxn00145_c0', 'rxn00460_c0', 'rxn04092_c0', 'rxn12707_c0', 'rxn00149_c0', 'rxn01322_c0', 'rxn06282_c0', 'rxn05226_c0', 'rxn00656_c0', 'rxn03909_c0', 'rxn01242_c0', 'rxn00011_c0', 'rxn00157_c0', 'rxn00783_c0', 'rxn04675_c0', 'rxn11731_c0', 'rxn00411_c0', 'rxn00161_c0', 'rxn00566_c0', 'rxn05988_c0', 'rxn00987_c0', 'rxn03841_c0', 'rxn00966_c0', 'rxn00540_c0', 'rxn01667_c0', 'rxn15491_c0', 'rxn03884_c0', 'rxn00004_c0', 'rxn01203_c0', 'rxn15166_c0', 'rxn08043_c0']\n"
     ]
    }
   ],
   "source": [
    "\n",
    "print('number of reactions : ', len(gpseq_model.reactions))\n",
    "\n",
    "\n",
    "print('number of metabolites : ', len(gpseq_model.metabolites))\n",
    "\n",
    "\n",
    "print('number of genes : ', len(gpseq_model.genes))\n",
    "\n",
    "\n",
    "print('Compartments : ', gpseq_model.compartments)\n",
    "\n",
    "#1 reaction info\n",
    "print('id : ', gpseq_model.reactions.rxn00004_c0.id)\n",
    "print('name : ', gpseq_model.reactions.rxn00004_c0.name)\n",
    "\n",
    "print(gpseq_model.reactions.rxn00004_c0.reaction)\n",
    "print(gpseq_model.reactions.rxn00004_c0.build_reaction_string(use_metabolite_names=1))\n",
    "\n",
    "print('\\n\\n', 'reaction genes : ',  gpseq_model.reactions.rxn00004_c0.genes , '\\n\\n')\n",
    "print('\\n\\n', 'reaction gene rules : ', gpseq_model.reactions.rxn00004_c0.gene_reaction_rule, '\\n\\n',)\n",
    "\n",
    "\n",
    "#1 metabolite info\n",
    "print('id : ', gpseq_model.metabolites.cpd00020_c0.id)\n",
    "print('name : ', gpseq_model.metabolites.cpd00020_c0.name)\n",
    "print('formula : ', gpseq_model.metabolites.cpd00020_c0.formula)\n",
    "print('charge : ', gpseq_model.metabolites.cpd00020_c0.charge)\n",
    "print('elements : ', gpseq_model.metabolites.cpd00020_c0.elements)\n",
    "print('weight : ', gpseq_model.metabolites.cpd00020_c0.formula_weight)\n",
    "print('reactions that use this metabolite : ', [i.id for i in gpseq_model.metabolites.cpd00020_c0.reactions])\n"
   ]
  },
  {
   "cell_type": "markdown",
   "id": "ab43c4e9",
   "metadata": {},
   "source": [
    "All these fields are editable. \n",
    "\n",
    "Additionally, there is a suite of functions (check the docs).\n",
    "\n",
    "To run FBA (the draft model is not functional)"
   ]
  },
  {
   "cell_type": "code",
   "execution_count": 5,
   "id": "c3722010",
   "metadata": {},
   "outputs": [
    {
     "name": "stdout",
     "output_type": "stream",
     "text": [
      "0.0\n",
      "rxn00001_c0       0.0\n",
      "rxn00002_c0       0.0\n",
      "rxn00003_c0       0.0\n",
      "rxn00004_c0       0.0\n",
      "rxn00006_c0       0.0\n",
      "                 ... \n",
      "EX_cpd03662_e0    0.0\n",
      "EX_cpd00178_e0    0.0\n",
      "EX_cpd01618_e0    0.0\n",
      "bio1              0.0\n",
      "DM_cpd01042_c0    0.0\n",
      "Name: fluxes, Length: 3846, dtype: float64\n"
     ]
    }
   ],
   "source": [
    "solution = gpseq_model.optimize()\n",
    "print(solution.objective_value)\n",
    "\n",
    "print(solution.fluxes)"
   ]
  },
  {
   "cell_type": "markdown",
   "id": "a15caff1",
   "metadata": {},
   "source": [
    "As a quick illustration. I am going to create a reaction for ATP hydrolysis, add it to the model and use this as an objective instead of the biomass."
   ]
  },
  {
   "cell_type": "code",
   "execution_count": 6,
   "id": "4ead7df3",
   "metadata": {},
   "outputs": [],
   "source": [
    "reaction = cobra.Reaction('ATHyd')\n",
    "reaction.name = 'ATP hydrolysis'\n",
    "atp = gpseq_model.metabolites.cpd00002_c0\n",
    "water = gpseq_model.metabolites.cpd00001_c0\n",
    "adp = gpseq_model.metabolites.cpd00008_c0\n",
    "pi = gpseq_model.metabolites.cpd00009_c0\n",
    "proton = gpseq_model.metabolites.cpd00067_c0\n",
    "\n",
    "reaction.add_metabolites({atp:-1, water:-1, adp:1, pi:1, proton:1})\n",
    "\n",
    "reaction.lower_bound=0\n",
    "reaction.upper_bound=1000\n",
    "\n",
    "gpseq_model.add_reactions([reaction])\n",
    "\n",
    "\n",
    "gpseq_model.reactions.ATHyd.objective_coefficient=1\n",
    "gpseq_model.reactions.bio1.objective_coefficient=0"
   ]
  },
  {
   "cell_type": "code",
   "execution_count": 7,
   "id": "23b8ed94",
   "metadata": {},
   "outputs": [
    {
     "name": "stdout",
     "output_type": "stream",
     "text": [
      "0.0\n",
      "rxn00001_c0       0.0\n",
      "rxn00002_c0       0.0\n",
      "rxn00003_c0       0.0\n",
      "rxn00004_c0       0.0\n",
      "rxn00006_c0       0.0\n",
      "                 ... \n",
      "EX_cpd00178_e0    0.0\n",
      "EX_cpd01618_e0    0.0\n",
      "bio1              0.0\n",
      "DM_cpd01042_c0    0.0\n",
      "ATHyd             0.0\n",
      "Name: fluxes, Length: 3847, dtype: float64\n"
     ]
    }
   ],
   "source": [
    "solution = gpseq_model.optimize()\n",
    "print(solution.objective_value)\n",
    "\n",
    "print(solution.fluxes)"
   ]
  },
  {
   "cell_type": "markdown",
   "id": "dfacd17a",
   "metadata": {},
   "source": [
    "Finally, to save the modified model as an XML file"
   ]
  },
  {
   "cell_type": "code",
   "execution_count": 8,
   "id": "d191792d",
   "metadata": {},
   "outputs": [],
   "source": [
    "new_model_location = os.path.join(path.parent, 'files',  'models', 'all_bins-draft_ATP_Obj.xml')\n",
    "cobra.io.write_sbml_model(gpseq_model, new_model_location)"
   ]
  },
  {
   "cell_type": "markdown",
   "id": "aac4d5e1",
   "metadata": {},
   "source": [
    "### Gapfilling a model on complete media with equally penalized database reactions\n",
    "\n",
    "Use the function gapfill_function.gapfill\n",
    "\n",
    "as inputs use:\n",
    "\n",
    "1) The reaction ids of your draft model as a set that we call 'draft_reaction_ids'\n",
    "\n"
   ]
  },
  {
   "cell_type": "code",
   "execution_count": 11,
   "id": "274da884",
   "metadata": {},
   "outputs": [],
   "source": [
    "model_location = os.path.join(path.parent, 'files',  'models', 'all_bins-draft_ATP_Obj.xml')\n",
    "draft_model = Reaction(model=model_location)\n",
    "draft_reaction_ids = set(draft_model.reactions) "
   ]
  },
  {
   "cell_type": "markdown",
   "id": "138d3849",
   "metadata": {},
   "source": [
    "2) A Reaction class object that contains all the reactions of the ModelSeed database, called 'all_reactions' "
   ]
  },
  {
   "cell_type": "code",
   "execution_count": 12,
   "id": "e40ee2f3",
   "metadata": {},
   "outputs": [],
   "source": [
    "# Load the database reactions.tsv file\n",
    "biochem = os.path.join(path.parent, 'files',  'biochemistry', 'reactions.tsv')\n",
    "db_reactions = Reaction(biochem_input=biochem)\n",
    "\n",
    "#Combine all reactions into one object\n",
    "\n",
    "all_reactions = Reaction()\n",
    "all_reactions.reactions = all_reactions.add_dict(draft_model.reactions, db_reactions.reactions) "
   ]
  },
  {
   "cell_type": "markdown",
   "id": "6a00319b",
   "metadata": {},
   "source": [
    "3) the id of an objective function, in our case 'bio1' or 'ATHyd'\n",
    "\n",
    "4) A method to select the best gapfilled sets. In this case we use the minimum number of added reactions 'min_reactions'"
   ]
  },
  {
   "cell_type": "code",
   "execution_count": 13,
   "id": "47fbb153",
   "metadata": {},
   "outputs": [
    {
     "name": "stdout",
     "output_type": "stream",
     "text": [
      "Warning for adding constraints: zero or small (< 1e-13) coefficients, ignored\n",
      "Delta is 70671.00\n",
      "Warning for adding constraints: zero or small (< 1e-13) coefficients, ignored\n",
      "Flux through biomass reaction is 1.00000000\n",
      "Delta is 35335.00\n",
      "Warning for adding constraints: zero or small (< 1e-13) coefficients, ignored\n",
      "Flux through biomass reaction is 1.00000000\n",
      "Delta is 17667.00\n",
      "Warning for adding constraints: zero or small (< 1e-13) coefficients, ignored\n",
      "Flux through biomass reaction is 1.00000000\n",
      "Delta is 8833.00\n",
      "Warning for adding constraints: zero or small (< 1e-13) coefficients, ignored\n",
      "Flux through biomass reaction is 1.00000000\n",
      "Delta is 4416.00\n",
      "Warning for adding constraints: zero or small (< 1e-13) coefficients, ignored\n",
      "Flux through biomass reaction is 1.00000000\n",
      "Delta is 2208.00\n",
      "Warning for adding constraints: zero or small (< 1e-13) coefficients, ignored\n",
      "Flux through biomass reaction is 1.00000000\n",
      "Delta is 1104.00\n",
      "Warning for adding constraints: zero or small (< 1e-13) coefficients, ignored\n",
      "Flux through biomass reaction is 1.00000000\n",
      "Delta is 552.00\n",
      "Warning for adding constraints: zero or small (< 1e-13) coefficients, ignored\n",
      "Flux through biomass reaction is 1.00000000\n",
      "Delta is 276.00\n",
      "Warning for adding constraints: zero or small (< 1e-13) coefficients, ignored\n",
      "Flux through biomass reaction is 1.00000000\n",
      "Delta is 138.00\n",
      "Warning for adding constraints: zero or small (< 1e-13) coefficients, ignored\n",
      "Flux through biomass reaction is 1.00000000\n",
      "Delta is 69.00\n",
      "Warning for adding constraints: zero or small (< 1e-13) coefficients, ignored\n",
      "Flux through biomass reaction is 1.00000000\n",
      "Delta is 34.00\n",
      "Warning for adding constraints: zero or small (< 1e-13) coefficients, ignored\n",
      "Flux through biomass reaction is 1.00000000\n",
      "Delta is 17.00\n",
      "Warning for adding constraints: zero or small (< 1e-13) coefficients, ignored\n",
      "Flux through biomass reaction is 1.00000000\n",
      "Delta is 8.00\n",
      "Warning for adding constraints: zero or small (< 1e-13) coefficients, ignored\n",
      "Flux through biomass reaction is 0.60693822\n",
      "Delta is 4.00\n",
      "Warning for adding constraints: zero or small (< 1e-13) coefficients, ignored\n",
      "Flux through objective reaction is 0.00000000\n",
      "Delta is 6.00\n",
      "Warning for adding constraints: zero or small (< 1e-13) coefficients, ignored\n",
      "Flux through objective reaction is 0.00000000\n",
      "Delta is 7.00\n",
      "Warning for adding constraints: zero or small (< 1e-13) coefficients, ignored\n",
      "Flux through biomass reaction is 0.36469980\n",
      "Objective value is 1.000000.\n"
     ]
    }
   ],
   "source": [
    "model, obj, new_reacs = gapfill_function.gapfill(all_reactions, draft_reaction_ids, {}, 'bio1', result_selection = 'min_reactions')\n"
   ]
  },
  {
   "cell_type": "markdown",
   "id": "a1919a9f",
   "metadata": {},
   "source": [
    "The added reactions as listed in the 'new_reacs' list and a cobrapy model object is generated called 'model'"
   ]
  },
  {
   "cell_type": "code",
   "execution_count": 12,
   "id": "52699e8e",
   "metadata": {},
   "outputs": [
    {
     "name": "stdout",
     "output_type": "stream",
     "text": [
      "number of added reactions :  78\n",
      "number of reactions in model :  3741\n",
      "number of metabolites in model :  3132\n",
      "objective value : 1.0\n"
     ]
    }
   ],
   "source": [
    "print('number of added reactions : ', len(new_reacs))\n",
    "print('number of reactions in model : ', len(model.reactions))\n",
    "print('number of metabolites in model : ', len(model.metabolites))\n",
    "\n",
    "#run FBA\n",
    "solution = model.optimize()\n",
    "print('objective value :' , solution.objective_value)"
   ]
  },
  {
   "cell_type": "markdown",
   "id": "8ad8142f",
   "metadata": {},
   "source": [
    "This is still a work in progress implementation and you will notice that several features need to be added to this model to make it equal to the standard GSMMs:\n",
    "\n",
    "- the constraints are in the range -1 and 1, while they should be in the range -1000 and 1000"
   ]
  },
  {
   "cell_type": "code",
   "execution_count": 13,
   "id": "3f9b1544",
   "metadata": {},
   "outputs": [
    {
     "name": "stdout",
     "output_type": "stream",
     "text": [
      "1000.0\n"
     ]
    }
   ],
   "source": [
    "for reaction in model.reactions:\n",
    "    reaction.lower_bound*=1000\n",
    "    reaction.upper_bound*=1000\n",
    "\n",
    "solution = model.optimize()\n",
    "print(solution.objective_value)"
   ]
  },
  {
   "cell_type": "markdown",
   "id": "1f28ebeb",
   "metadata": {},
   "source": [
    "- We are missing database information for the reactions and metabolites (name, charge, formula, pathway, genes, etc.). I will later write a function to retrieve these. "
   ]
  },
  {
   "cell_type": "markdown",
   "id": "17529b83",
   "metadata": {},
   "source": [
    "### Gapfilling a model on a defined media\n",
    "\n",
    "We need the same inputs as above, but now we also need a media\n",
    "\n"
   ]
  },
  {
   "cell_type": "code",
   "execution_count": 14,
   "id": "c25e9de4",
   "metadata": {},
   "outputs": [],
   "source": [
    "media_file = os.path.join(path.parent, 'files', 'biochemistry', 'Nitrogen-Nitrite_media.tsv')\n",
    "\n",
    "Nit_media = {}\n",
    "\n",
    "with open(media_file) as f:\n",
    "    f.readline()\n",
    "    for line in f:\n",
    "        a = line.strip().split('\\t')\n",
    "        Nit_media['EX_' + a[0] + '_e0'] = {'lower_bound':-1, 'upper_bound':1, 'metabolites':{a[0]+'_e0':-1.0}}"
   ]
  },
  {
   "cell_type": "code",
   "execution_count": 15,
   "id": "d18d094c",
   "metadata": {},
   "outputs": [
    {
     "name": "stdout",
     "output_type": "stream",
     "text": [
      "Warning for adding constraints: zero or small (< 1e-13) coefficients, ignored\n",
      "Delta is 65919.00\n",
      "Warning for adding constraints: zero or small (< 1e-13) coefficients, ignored\n",
      "Flux through biomass reaction is 1.00000000\n",
      "Delta is 32959.00\n",
      "Warning for adding constraints: zero or small (< 1e-13) coefficients, ignored\n",
      "Flux through biomass reaction is 1.00000000\n",
      "Delta is 16479.00\n",
      "Warning for adding constraints: zero or small (< 1e-13) coefficients, ignored\n",
      "Flux through biomass reaction is 1.00000000\n",
      "Delta is 8239.00\n",
      "Warning for adding constraints: zero or small (< 1e-13) coefficients, ignored\n",
      "Flux through biomass reaction is 1.00000000\n",
      "Delta is 4119.00\n",
      "Warning for adding constraints: zero or small (< 1e-13) coefficients, ignored\n",
      "Flux through biomass reaction is 1.00000000\n",
      "Delta is 2059.00\n",
      "Warning for adding constraints: zero or small (< 1e-13) coefficients, ignored\n",
      "Flux through biomass reaction is 1.00000000\n",
      "Delta is 1029.00\n",
      "Warning for adding constraints: zero or small (< 1e-13) coefficients, ignored\n",
      "Flux through biomass reaction is 1.00000000\n",
      "Delta is 514.00\n",
      "Warning for adding constraints: zero or small (< 1e-13) coefficients, ignored\n",
      "Flux through biomass reaction is 1.00000000\n",
      "Delta is 257.00\n",
      "Warning for adding constraints: zero or small (< 1e-13) coefficients, ignored\n",
      "Flux through biomass reaction is 1.00000000\n",
      "Delta is 128.00\n",
      "Warning for adding constraints: zero or small (< 1e-13) coefficients, ignored\n",
      "Flux through biomass reaction is 1.00000000\n",
      "Delta is 64.00\n",
      "Warning for adding constraints: zero or small (< 1e-13) coefficients, ignored\n",
      "Flux through biomass reaction is 1.00000000\n",
      "Delta is 32.00\n",
      "Warning for adding constraints: zero or small (< 1e-13) coefficients, ignored\n",
      "Flux through biomass reaction is 1.00000000\n",
      "Delta is 16.00\n",
      "Warning for adding constraints: zero or small (< 1e-13) coefficients, ignored\n",
      "Flux through biomass reaction is 1.00000000\n",
      "Delta is 8.00\n",
      "Warning for adding constraints: zero or small (< 1e-13) coefficients, ignored\n",
      "Flux through biomass reaction is 1.00000000\n",
      "Delta is 4.00\n",
      "Warning for adding constraints: zero or small (< 1e-13) coefficients, ignored\n",
      "Flux through biomass reaction is 1.00000000\n",
      "Delta is 2.00\n",
      "Warning for adding constraints: zero or small (< 1e-13) coefficients, ignored\n",
      "Flux through biomass reaction is 1.00000000\n",
      "Delta is 1.00\n",
      "Warning for adding constraints: zero or small (< 1e-13) coefficients, ignored\n",
      "Flux through biomass reaction is 1.00000000\n",
      "Objective value is 1.000000.\n"
     ]
    }
   ],
   "source": [
    "model2, obj2, new_reacs2 = gapfill_function.gapfill(all_reactions, draft_reaction_ids, {}, 'ATHyd', result_selection = 'min_reactions', medium=Nit_media)\n"
   ]
  },
  {
   "cell_type": "code",
   "execution_count": 16,
   "id": "58b16532",
   "metadata": {},
   "outputs": [
    {
     "name": "stdout",
     "output_type": "stream",
     "text": [
      "number of added reactions :  5\n",
      "objective value :  1000.0\n"
     ]
    }
   ],
   "source": [
    "for reaction in model2.reactions:\n",
    "    reaction.lower_bound*=1000\n",
    "    reaction.upper_bound*=1000\n",
    "\n",
    "print('number of added reactions : ', len(new_reacs2))\n",
    "solution = model2.optimize()\n",
    "print('objective value : ', solution.objective_value)"
   ]
  },
  {
   "cell_type": "markdown",
   "id": "ffcb896c",
   "metadata": {},
   "source": [
    "### Gapfilig a model with different costs for reactions\n",
    "\n",
    "Now we need to provide a python dictionary with reaction costs. The function will automatically give a cost of zero to reactions that are already in the draft model and also to the exchange reactions of the defined media. It will give a default cost (set to 1) to reactions that are not in the draft model nor in the dictionary with costs."
   ]
  },
  {
   "cell_type": "code",
   "execution_count": 17,
   "id": "6af15113",
   "metadata": {},
   "outputs": [],
   "source": [
    "#select random reaction and add random costs between 0 and 1\n",
    "candidate_reactions = {}\n",
    "for i in  all_reactions.reactions:\n",
    "    if np.random.uniform()<0.02:\n",
    "        candidate_reactions[i] = np.random.uniform()"
   ]
  },
  {
   "cell_type": "markdown",
   "id": "8ade2a07",
   "metadata": {},
   "source": [
    "We will also use a different criteria to choose the gapfilled reaction. Instead of 'min_reactions' we use 'min_cost', selecting the set with a minimum sum of costs."
   ]
  },
  {
   "cell_type": "code",
   "execution_count": null,
   "id": "c33238f9",
   "metadata": {},
   "outputs": [
    {
     "name": "stdout",
     "output_type": "stream",
     "text": [
      "Warning for adding constraints: zero or small (< 1e-13) coefficients, ignored\n",
      "Delta is 65919.00\n",
      "Warning for adding constraints: zero or small (< 1e-13) coefficients, ignored\n",
      "Flux through biomass reaction is 1.00000000\n",
      "Delta is 32959.00\n",
      "Warning for adding constraints: zero or small (< 1e-13) coefficients, ignored\n",
      "Flux through biomass reaction is 1.00000000\n",
      "Delta is 16479.00\n",
      "Warning for adding constraints: zero or small (< 1e-13) coefficients, ignored\n",
      "Flux through biomass reaction is 1.00000000\n",
      "Delta is 8239.00\n",
      "Warning for adding constraints: zero or small (< 1e-13) coefficients, ignored\n",
      "Flux through biomass reaction is 1.00000000\n",
      "Delta is 4119.00\n",
      "Warning for adding constraints: zero or small (< 1e-13) coefficients, ignored\n",
      "Flux through biomass reaction is 1.00000000\n",
      "Delta is 2059.00\n"
     ]
    }
   ],
   "source": [
    "model3, obj3, new_reacs3 = gapfill_function.gapfill(all_reactions, draft_reaction_ids, candidate_reactions, 'bio1', result_selection = 'min_costs', medium=Nit_media)\n"
   ]
  },
  {
   "cell_type": "code",
   "execution_count": 26,
   "id": "7c4c2153",
   "metadata": {},
   "outputs": [
    {
     "name": "stdout",
     "output_type": "stream",
     "text": [
      "number of added reactions :  5\n",
      "1000.0\n"
     ]
    }
   ],
   "source": [
    "for reaction in model3.reactions:\n",
    "    reaction.lower_bound*=1000\n",
    "    reaction.upper_bound*=1000\n",
    "\n",
    "print('number of added reactions : ', len(new_reacs3))\n",
    "solution = model3.optimize()\n",
    "print(solution.objective_value)"
   ]
  },
  {
   "cell_type": "markdown",
   "id": "4fec2071",
   "metadata": {},
   "source": [
    "### Quick idea of what to do when no flux is observed on a particular media\n",
    "\n",
    "\n",
    "1) Run a gapfill on the with complete media option (as in [5])\n",
    "\n",
    "2) Run flux variability analysis (for big models this takes a long time to run):"
   ]
  },
  {
   "cell_type": "code",
   "execution_count": 31,
   "id": "8e8375ed",
   "metadata": {},
   "outputs": [],
   "source": [
    "model_exchanges = [i for i in model.reactions if ('EX_' in i.id) and ('_e0' in i.id)]"
   ]
  },
  {
   "cell_type": "code",
   "execution_count": null,
   "id": "d784ff5d",
   "metadata": {},
   "outputs": [],
   "source": [
    "fva = cobra.flux_analysis.flux_variability_analysis(model, model_exchanges)\n",
    "print(fva)"
   ]
  },
  {
   "cell_type": "markdown",
   "id": "01c33bf2",
   "metadata": {},
   "source": [
    "The exchange reaction where the minimum and maximum are negative are likely required in the medium. They are essential for the objective and likely the database reactions have no way to make them, so gapdfilling does not wotrk."
   ]
  }
 ],
 "metadata": {
  "kernelspec": {
   "display_name": "Python 3",
   "language": "python",
   "name": "python3"
  },
  "language_info": {
   "codemirror_mode": {
    "name": "ipython",
    "version": 3
   },
   "file_extension": ".py",
   "mimetype": "text/x-python",
   "name": "python",
   "nbconvert_exporter": "python",
   "pygments_lexer": "ipython3",
   "version": "3.8.8"
  }
 },
 "nbformat": 4,
 "nbformat_minor": 5
}
